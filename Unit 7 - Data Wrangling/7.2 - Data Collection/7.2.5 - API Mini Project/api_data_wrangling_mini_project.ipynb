{
 "cells": [
  {
   "cell_type": "markdown",
   "metadata": {},
   "source": [
    "This exercise will require you to pull some data from https://data.nasdaq.com/ (formerly Quandl API)."
   ]
  },
  {
   "cell_type": "markdown",
   "metadata": {},
   "source": [
    "As a first step, you will need to register a free account on the https://data.nasdaq.com/ website."
   ]
  },
  {
   "cell_type": "markdown",
   "metadata": {},
   "source": [
    "After you register, you will be provided with a unique API key, that you should store:\n",
    "\n",
    "*Note*: Use a `.env` file and put your key in there and `python-dotenv` to access it in this notebook. \n",
    "\n",
    "The code below uses a key that was used when generating this project but has since been deleted. Never submit your keys to source control. There is a `.env-example` file in this repository to illusrtate what you need. Copy that to a file called `.env` and use your own api key in that `.env` file. Make sure you also have a `.gitignore` file with a line for `.env` added to it. \n",
    "\n",
    "The standard Python gitignore is [here](https://github.com/github/gitignore/blob/master/Python.gitignore) you can just copy that. "
   ]
  },
  {
   "cell_type": "code",
   "execution_count": 9,
   "metadata": {},
   "outputs": [
    {
     "name": "stdout",
     "output_type": "stream",
     "text": [
      "Zx1AgnzxG12QoxrLGzae\n"
     ]
    }
   ],
   "source": [
    "# get api key from your .env file\n",
    "import os\n",
    "from dotenv import load_dotenv\n",
    "\n",
    "load_dotenv()\n",
    "API_KEY = os.getenv('NASDAQ_API_KEY')\n",
    "\n",
    "print(API_KEY)"
   ]
  },
  {
   "cell_type": "markdown",
   "metadata": {},
   "source": [
    "Nasdaq Data has a large number of data sources, but, unfortunately, most of them require a Premium subscription. Still, there are also a good number of free datasets."
   ]
  },
  {
   "cell_type": "markdown",
   "metadata": {},
   "source": [
    "For this mini project, we will focus on equities data from the Frankfurt Stock Exhange (FSE), which is available for free. We'll try and analyze the stock prices of a company called Carl Zeiss Meditec, which manufactures tools for eye examinations, as well as medical lasers for laser eye surgery: https://www.zeiss.com/meditec/int/home.html. The company is listed under the stock ticker AFX_X."
   ]
  },
  {
   "cell_type": "markdown",
   "metadata": {},
   "source": [
    "You can find the detailed Nasdaq Data API instructions here: https://docs.data.nasdaq.com/docs/in-depth-usage"
   ]
  },
  {
   "cell_type": "markdown",
   "metadata": {},
   "source": [
    "While there is a dedicated Python package for connecting to the Nasdaq API, we would prefer that you use the *requests* package, which can be easily downloaded using *pip* or *conda*. You can find the documentation for the package here: http://docs.python-requests.org/en/master/ "
   ]
  },
  {
   "cell_type": "markdown",
   "metadata": {},
   "source": [
    "Finally, apart from the *requests* package, you are encouraged to not use any third party Python packages, such as *pandas*, and instead focus on what's available in the Python Standard Library (the *collections* module might come in handy: https://pymotw.com/3/collections/).\n",
    "Also, since you won't have access to DataFrames, you are encouraged to us Python's native data structures - preferably dictionaries, though some questions can also be answered using lists.\n",
    "You can read more on these data structures here: https://docs.python.org/3/tutorial/datastructures.html"
   ]
  },
  {
   "cell_type": "markdown",
   "metadata": {},
   "source": [
    "Keep in mind that the JSON responses you will be getting from the API map almost one-to-one to Python's dictionaries. Unfortunately, they can be very nested, so make sure you read up on indexing dictionaries in the documentation provided above."
   ]
  },
  {
   "cell_type": "code",
   "execution_count": 25,
   "metadata": {},
   "outputs": [],
   "source": [
    "# First, import the relevant modules\n",
    "import requests\n",
    "import pandas as pd\n",
    "import json"
   ]
  },
  {
   "cell_type": "markdown",
   "metadata": {},
   "source": [
    "Note: API's can change a bit with each version, for this exercise it is reccomended to use the nasdaq api at `https://data.nasdaq.com/api/v3/`. This is the same api as what used to be quandl so `https://www.quandl.com/api/v3/` should work too.\n",
    "\n",
    "Hint: We are looking for the `AFX_X` data on the `datasets/FSE/` dataset."
   ]
  },
  {
   "cell_type": "code",
   "execution_count": 68,
   "metadata": {},
   "outputs": [],
   "source": [
    "# Now, call the Nasdaq API and pull out a small sample of the data (only one day) to get a glimpse\n",
    "# into the JSON structure that will be returned\n",
    "url = 'https://data.nasdaq.com/api/v3/datasets/FSE/AFX_X/data.json?api_key=NASDAQ_API_KEY'\n",
    "r = requests.get(url)\n",
    "json_data = r.json()\n",
    "#df = df = pd.read_json(json_data, orient ='records')\n",
    "value=json_data.get('dataset_data')\n",
    "#for k in value.keys():\n",
    "#    print(k + ': ', value[k])"
   ]
  },
  {
   "cell_type": "code",
   "execution_count": 69,
   "metadata": {},
   "outputs": [
    {
     "data": {
      "text/html": [
       "<div>\n",
       "<style scoped>\n",
       "    .dataframe tbody tr th:only-of-type {\n",
       "        vertical-align: middle;\n",
       "    }\n",
       "\n",
       "    .dataframe tbody tr th {\n",
       "        vertical-align: top;\n",
       "    }\n",
       "\n",
       "    .dataframe thead th {\n",
       "        text-align: right;\n",
       "    }\n",
       "</style>\n",
       "<table border=\"1\" class=\"dataframe\">\n",
       "  <thead>\n",
       "    <tr style=\"text-align: right;\">\n",
       "      <th></th>\n",
       "      <th>Date</th>\n",
       "      <th>Open</th>\n",
       "      <th>High</th>\n",
       "      <th>Low</th>\n",
       "      <th>Close</th>\n",
       "      <th>Change</th>\n",
       "      <th>Traded Volume</th>\n",
       "      <th>Turnover</th>\n",
       "      <th>Last Price of the Day</th>\n",
       "      <th>Daily Traded Units</th>\n",
       "      <th>Daily Turnover</th>\n",
       "    </tr>\n",
       "  </thead>\n",
       "  <tbody>\n",
       "    <tr>\n",
       "      <th>0</th>\n",
       "      <td>2020-12-01</td>\n",
       "      <td>112.2</td>\n",
       "      <td>112.2</td>\n",
       "      <td>111.5</td>\n",
       "      <td>112.0</td>\n",
       "      <td>NaN</td>\n",
       "      <td>51.0</td>\n",
       "      <td>5703.0</td>\n",
       "      <td>None</td>\n",
       "      <td>None</td>\n",
       "      <td>NaN</td>\n",
       "    </tr>\n",
       "    <tr>\n",
       "      <th>1</th>\n",
       "      <td>2020-11-30</td>\n",
       "      <td>111.0</td>\n",
       "      <td>113.6</td>\n",
       "      <td>111.0</td>\n",
       "      <td>112.1</td>\n",
       "      <td>NaN</td>\n",
       "      <td>315.0</td>\n",
       "      <td>35111.5</td>\n",
       "      <td>None</td>\n",
       "      <td>None</td>\n",
       "      <td>NaN</td>\n",
       "    </tr>\n",
       "    <tr>\n",
       "      <th>2</th>\n",
       "      <td>2020-11-27</td>\n",
       "      <td>111.0</td>\n",
       "      <td>111.5</td>\n",
       "      <td>109.5</td>\n",
       "      <td>111.2</td>\n",
       "      <td>NaN</td>\n",
       "      <td>155.0</td>\n",
       "      <td>17168.5</td>\n",
       "      <td>None</td>\n",
       "      <td>None</td>\n",
       "      <td>NaN</td>\n",
       "    </tr>\n",
       "    <tr>\n",
       "      <th>3</th>\n",
       "      <td>2020-11-26</td>\n",
       "      <td>111.3</td>\n",
       "      <td>112.0</td>\n",
       "      <td>110.5</td>\n",
       "      <td>111.6</td>\n",
       "      <td>NaN</td>\n",
       "      <td>254.0</td>\n",
       "      <td>28367.5</td>\n",
       "      <td>None</td>\n",
       "      <td>None</td>\n",
       "      <td>NaN</td>\n",
       "    </tr>\n",
       "    <tr>\n",
       "      <th>4</th>\n",
       "      <td>2020-11-25</td>\n",
       "      <td>111.4</td>\n",
       "      <td>111.4</td>\n",
       "      <td>110.1</td>\n",
       "      <td>110.1</td>\n",
       "      <td>NaN</td>\n",
       "      <td>294.0</td>\n",
       "      <td>32435.8</td>\n",
       "      <td>None</td>\n",
       "      <td>None</td>\n",
       "      <td>NaN</td>\n",
       "    </tr>\n",
       "  </tbody>\n",
       "</table>\n",
       "</div>"
      ],
      "text/plain": [
       "         Date   Open   High    Low  Close  Change  Traded Volume  Turnover  \\\n",
       "0  2020-12-01  112.2  112.2  111.5  112.0     NaN           51.0    5703.0   \n",
       "1  2020-11-30  111.0  113.6  111.0  112.1     NaN          315.0   35111.5   \n",
       "2  2020-11-27  111.0  111.5  109.5  111.2     NaN          155.0   17168.5   \n",
       "3  2020-11-26  111.3  112.0  110.5  111.6     NaN          254.0   28367.5   \n",
       "4  2020-11-25  111.4  111.4  110.1  110.1     NaN          294.0   32435.8   \n",
       "\n",
       "  Last Price of the Day Daily Traded Units  Daily Turnover  \n",
       "0                  None               None             NaN  \n",
       "1                  None               None             NaN  \n",
       "2                  None               None             NaN  \n",
       "3                  None               None             NaN  \n",
       "4                  None               None             NaN  "
      ]
     },
     "execution_count": 69,
     "metadata": {},
     "output_type": "execute_result"
    }
   ],
   "source": [
    "df = pd.DataFrame(value.get('data'), columns = value.get('column_names'))\n",
    "df.head()"
   ]
  },
  {
   "cell_type": "code",
   "execution_count": 70,
   "metadata": {},
   "outputs": [
    {
     "data": {
      "text/html": [
       "<div>\n",
       "<style scoped>\n",
       "    .dataframe tbody tr th:only-of-type {\n",
       "        vertical-align: middle;\n",
       "    }\n",
       "\n",
       "    .dataframe tbody tr th {\n",
       "        vertical-align: top;\n",
       "    }\n",
       "\n",
       "    .dataframe thead th {\n",
       "        text-align: right;\n",
       "    }\n",
       "</style>\n",
       "<table border=\"1\" class=\"dataframe\">\n",
       "  <thead>\n",
       "    <tr style=\"text-align: right;\">\n",
       "      <th></th>\n",
       "      <th>Date</th>\n",
       "      <th>Open</th>\n",
       "      <th>High</th>\n",
       "      <th>Low</th>\n",
       "      <th>Close</th>\n",
       "      <th>Change</th>\n",
       "      <th>Traded Volume</th>\n",
       "      <th>Turnover</th>\n",
       "      <th>Last Price of the Day</th>\n",
       "      <th>Daily Traded Units</th>\n",
       "      <th>Daily Turnover</th>\n",
       "    </tr>\n",
       "  </thead>\n",
       "  <tbody>\n",
       "    <tr>\n",
       "      <th>727</th>\n",
       "      <td>2017-12-29</td>\n",
       "      <td>51.76</td>\n",
       "      <td>51.94</td>\n",
       "      <td>51.45</td>\n",
       "      <td>51.76</td>\n",
       "      <td>NaN</td>\n",
       "      <td>34640.0</td>\n",
       "      <td>1792304.0</td>\n",
       "      <td>None</td>\n",
       "      <td>None</td>\n",
       "      <td>NaN</td>\n",
       "    </tr>\n",
       "    <tr>\n",
       "      <th>728</th>\n",
       "      <td>2017-12-28</td>\n",
       "      <td>51.65</td>\n",
       "      <td>51.82</td>\n",
       "      <td>51.43</td>\n",
       "      <td>51.60</td>\n",
       "      <td>NaN</td>\n",
       "      <td>40660.0</td>\n",
       "      <td>2099024.0</td>\n",
       "      <td>None</td>\n",
       "      <td>None</td>\n",
       "      <td>NaN</td>\n",
       "    </tr>\n",
       "    <tr>\n",
       "      <th>729</th>\n",
       "      <td>2017-12-27</td>\n",
       "      <td>51.45</td>\n",
       "      <td>51.89</td>\n",
       "      <td>50.76</td>\n",
       "      <td>51.82</td>\n",
       "      <td>NaN</td>\n",
       "      <td>57452.0</td>\n",
       "      <td>2957018.0</td>\n",
       "      <td>None</td>\n",
       "      <td>None</td>\n",
       "      <td>NaN</td>\n",
       "    </tr>\n",
       "    <tr>\n",
       "      <th>730</th>\n",
       "      <td>2017-12-22</td>\n",
       "      <td>51.05</td>\n",
       "      <td>51.50</td>\n",
       "      <td>50.92</td>\n",
       "      <td>51.32</td>\n",
       "      <td>NaN</td>\n",
       "      <td>71165.0</td>\n",
       "      <td>3641949.0</td>\n",
       "      <td>None</td>\n",
       "      <td>None</td>\n",
       "      <td>NaN</td>\n",
       "    </tr>\n",
       "    <tr>\n",
       "      <th>731</th>\n",
       "      <td>2017-12-21</td>\n",
       "      <td>51.16</td>\n",
       "      <td>51.52</td>\n",
       "      <td>50.90</td>\n",
       "      <td>51.40</td>\n",
       "      <td>NaN</td>\n",
       "      <td>120649.0</td>\n",
       "      <td>6179433.0</td>\n",
       "      <td>None</td>\n",
       "      <td>None</td>\n",
       "      <td>NaN</td>\n",
       "    </tr>\n",
       "  </tbody>\n",
       "</table>\n",
       "</div>"
      ],
      "text/plain": [
       "          Date   Open   High    Low  Close  Change  Traded Volume   Turnover  \\\n",
       "727 2017-12-29  51.76  51.94  51.45  51.76     NaN        34640.0  1792304.0   \n",
       "728 2017-12-28  51.65  51.82  51.43  51.60     NaN        40660.0  2099024.0   \n",
       "729 2017-12-27  51.45  51.89  50.76  51.82     NaN        57452.0  2957018.0   \n",
       "730 2017-12-22  51.05  51.50  50.92  51.32     NaN        71165.0  3641949.0   \n",
       "731 2017-12-21  51.16  51.52  50.90  51.40     NaN       120649.0  6179433.0   \n",
       "\n",
       "    Last Price of the Day Daily Traded Units  Daily Turnover  \n",
       "727                  None               None             NaN  \n",
       "728                  None               None             NaN  \n",
       "729                  None               None             NaN  \n",
       "730                  None               None             NaN  \n",
       "731                  None               None             NaN  "
      ]
     },
     "execution_count": 70,
     "metadata": {},
     "output_type": "execute_result"
    }
   ],
   "source": [
    "#filter for the year 2017\n",
    "df['Date'] = pd.to_datetime(df['Date'], format='%Y-%m-%d')\n",
    "df_2017 = df.loc[(df['Date'] >= '2017-01-01')\n",
    "                     & (df['Date'] < '2018-01-01')]\n",
    "df_2017.head()"
   ]
  },
  {
   "cell_type": "code",
   "execution_count": 71,
   "metadata": {},
   "outputs": [],
   "source": [
    "# Inspect the JSON structure of the object you created, and take note of how nested it is,\n",
    "# as well as the overall structure"
   ]
  },
  {
   "cell_type": "markdown",
   "metadata": {},
   "source": [
    "These are your tasks for this mini project:\n",
    "\n",
    "1. Collect data from the Franfurt Stock Exchange, for the ticker AFX_X, for the whole year 2017 (keep in mind that the date format is YYYY-MM-DD).\n",
    "2. Convert the returned JSON object into a Python dictionary.\n",
    "3. Calculate what the highest and lowest opening prices were for the stock in this period.\n",
    "4. What was the largest change in any one day (based on High and Low price)?\n",
    "5. What was the largest change between any two days (based on Closing Price)?\n",
    "6. What was the average daily trading volume during this year?\n",
    "7. (Optional) What was the median trading volume during this year. (Note: you may need to implement your own function for calculating the median.)"
   ]
  },
  {
   "cell_type": "code",
   "execution_count": 72,
   "metadata": {},
   "outputs": [
    {
     "name": "stdout",
     "output_type": "stream",
     "text": [
      "53.11\n",
      "34.0\n"
     ]
    }
   ],
   "source": [
    "#3 The highest and lowest opening prices in 2017\n",
    "Highest_2017_opening = df_2017['Open'].max()\n",
    "print(Highest_2017_opening)\n",
    "Lowest_2017_opening = df_2017['Open'].min()\n",
    "print(Lowest_2017_opening)"
   ]
  },
  {
   "cell_type": "code",
   "execution_count": 73,
   "metadata": {},
   "outputs": [
    {
     "name": "stdout",
     "output_type": "stream",
     "text": [
      "1.6400000000000006\n",
      "-1.6899999999999977\n"
     ]
    },
    {
     "name": "stderr",
     "output_type": "stream",
     "text": [
      "C:\\Users\\JChen\\AppData\\Local\\Temp/ipykernel_8520/1374445411.py:2: SettingWithCopyWarning: \n",
      "A value is trying to be set on a copy of a slice from a DataFrame.\n",
      "Try using .loc[row_indexer,col_indexer] = value instead\n",
      "\n",
      "See the caveats in the documentation: https://pandas.pydata.org/pandas-docs/stable/user_guide/indexing.html#returning-a-view-versus-a-copy\n",
      "  df_2017['Change'] = df_2017['Close'] - df_2017['Open']\n"
     ]
    }
   ],
   "source": [
    "#4 The largest change in any one day\n",
    "df_2017['Change'] = df_2017['Close'] - df_2017['Open']\n",
    "print(df_2017['Change'].max())\n",
    "print(df_2017['Change'].min())\n"
   ]
  },
  {
   "cell_type": "code",
   "execution_count": 74,
   "metadata": {},
   "outputs": [
    {
     "name": "stdout",
     "output_type": "stream",
     "text": [
      "2.559999999999995\n",
      "-1.7199999999999989\n"
     ]
    },
    {
     "name": "stderr",
     "output_type": "stream",
     "text": [
      "C:\\Users\\JChen\\AppData\\Local\\Temp/ipykernel_8520/3008355766.py:2: SettingWithCopyWarning: \n",
      "A value is trying to be set on a copy of a slice from a DataFrame.\n",
      "Try using .loc[row_indexer,col_indexer] = value instead\n",
      "\n",
      "See the caveats in the documentation: https://pandas.pydata.org/pandas-docs/stable/user_guide/indexing.html#returning-a-view-versus-a-copy\n",
      "  df_2017['day_close_diff'] = df_2017['Close'].diff()\n"
     ]
    }
   ],
   "source": [
    "#5 The largest change between any two days\n",
    "df_2017['day_close_diff'] = df_2017['Close'].diff()\n",
    "print(df_2017['day_close_diff'].max())\n",
    "print(df_2017['day_close_diff'].min())"
   ]
  },
  {
   "cell_type": "code",
   "execution_count": 75,
   "metadata": {},
   "outputs": [
    {
     "name": "stdout",
     "output_type": "stream",
     "text": [
      "89124.33725490196\n"
     ]
    }
   ],
   "source": [
    "#6 Average daily trading volume of 2017\n",
    "\n",
    "print(df_2017['Traded Volume'].mean())"
   ]
  },
  {
   "cell_type": "code",
   "execution_count": 76,
   "metadata": {},
   "outputs": [
    {
     "name": "stdout",
     "output_type": "stream",
     "text": [
      "76286.0\n"
     ]
    }
   ],
   "source": [
    "#7 Median Trading volume druing the year of 2017\n",
    "\n",
    "print(df_2017['Traded Volume'].median())"
   ]
  },
  {
   "cell_type": "code",
   "execution_count": null,
   "metadata": {},
   "outputs": [],
   "source": []
  }
 ],
 "metadata": {
  "interpreter": {
   "hash": "7635eb1b9d0fe97add78a7368b6b431c09bb8ad5c42e437d64abdd99821c31ae"
  },
  "kernelspec": {
   "display_name": "Python 3 (ipykernel)",
   "language": "python",
   "name": "python3"
  },
  "language_info": {
   "codemirror_mode": {
    "name": "ipython",
    "version": 3
   },
   "file_extension": ".py",
   "mimetype": "text/x-python",
   "name": "python",
   "nbconvert_exporter": "python",
   "pygments_lexer": "ipython3",
   "version": "3.9.7"
  }
 },
 "nbformat": 4,
 "nbformat_minor": 4
}
